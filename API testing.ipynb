{
 "cells": [
  {
   "cell_type": "code",
   "execution_count": 7,
   "id": "7c6f3290-1ae7-4a0d-a8af-093a2e9ee2b7",
   "metadata": {},
   "outputs": [
    {
     "name": "stdout",
     "output_type": "stream",
     "text": [
      "Posting spine_error.bvh to http://127.0.0.1:8000/predict ...\n",
      "HTTP 200\n",
      "{\n",
      "  \"status\": \"success\",\n",
      "  \"file\": \"spine_error.bvh\",\n",
      "  \"analytics\": {\n",
      "    \"total_frames\": 8384,\n",
      "    \"class_frequencies\": {\n",
      "      \"good\": 0.505,\n",
      "      \"knee\": 0.149,\n",
      "      \"spine\": 0.346\n",
      "    },\n",
      "    \"transitions\": 182,\n",
      "    \"mean_confidence\": 0.752,\n",
      "    \"prob_plot\": \"outputs/20251029_182313/prob_trend.png\"\n",
      "  },\n",
      "  \"feedback\": \"Your overall posture quality shows some areas for improvement, particularly with your spine and knees. The spine issues were noted frequently at a rate of 0.35, while knee issues were less frequent at 0.15. To enhance your posture, focus on strengthening your core and practicing spinal alignment exercises, which can help address those spine concerns. Additionally, incorporating stretching and strengthening for your knees will provide better support. Remember, small adjustments will lead to significant improvements\\u2014keep up the great work!\",\n",
      "  \"image_base64\": null\n",
      "}\n",
      "Saved response to /workspace/bvh_model_project/last_predict_response.json\n"
     ]
    }
   ],
   "source": [
    "# Step: Test /predict from inside the same container (no external exposure needed)\n",
    "import requests\n",
    "import json\n",
    "from pathlib import Path\n",
    "\n",
    "# Adjust these paths if needed\n",
    "BVH_PATH = \"/workspace/bvh_model_project/spine_error.bvh\"   # file you uploaded\n",
    "API_URL = \"http://127.0.0.1:8000/predict\"                  # use 127.0.0.1 or 0.0.0.0\n",
    "\n",
    "# Ensure file exists\n",
    "p = Path(BVH_PATH)\n",
    "if not p.exists():\n",
    "    raise FileNotFoundError(f\"BVH not found: {BVH_PATH}. Upload it to the container.\")\n",
    "\n",
    "# Send POST request with file upload\n",
    "with open(BVH_PATH, \"rb\") as f:\n",
    "    files = {\"file\": (p.name, f, \"application/octet-stream\")}\n",
    "    print(f\"Posting {p.name} to {API_URL} ...\")\n",
    "    resp = requests.post(API_URL, files=files, timeout=120)  # increase timeout if needed\n",
    "\n",
    "# Print status and JSON\n",
    "print(\"HTTP\", resp.status_code)\n",
    "try:\n",
    "    result = resp.json()\n",
    "    print(json.dumps(result, indent=2))\n",
    "except Exception as e:\n",
    "    print(\"Response is not JSON or parsing failed:\", e)\n",
    "    print(resp.text)\n",
    "\n",
    "# Optional: save response to file\n",
    "out_file = \"/workspace/bvh_model_project/last_predict_response.json\"\n",
    "with open(out_file, \"w\") as out:\n",
    "    json.dump({\"status_code\": resp.status_code, \"response\": resp.text}, out)\n",
    "print(\"Saved response to\", out_file)\n"
   ]
  },
  {
   "cell_type": "code",
   "execution_count": null,
   "id": "07754d34-c800-41c8-92be-abd0abefde46",
   "metadata": {},
   "outputs": [],
   "source": []
  }
 ],
 "metadata": {
  "kernelspec": {
   "display_name": "Python 3 (ipykernel)",
   "language": "python",
   "name": "python3"
  },
  "language_info": {
   "codemirror_mode": {
    "name": "ipython",
    "version": 3
   },
   "file_extension": ".py",
   "mimetype": "text/x-python",
   "name": "python",
   "nbconvert_exporter": "python",
   "pygments_lexer": "ipython3",
   "version": "3.11.10"
  }
 },
 "nbformat": 4,
 "nbformat_minor": 5
}
